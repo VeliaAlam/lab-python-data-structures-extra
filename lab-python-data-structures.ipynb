{
 "cells": [
  {
   "cell_type": "markdown",
   "metadata": {},
   "source": [
    "# Lab | Data Structures "
   ]
  },
  {
   "cell_type": "markdown",
   "metadata": {},
   "source": [
    "## Exercise 1: Working with Lists"
   ]
  },
  {
   "cell_type": "markdown",
   "metadata": {},
   "source": [
    "Imagine you are building a program for a teacher who wants to track the progress of their students throughout the semester. The teacher wants to input the grades of each student one by one, and get a summary of their performance. There are in total 5 students. You are tasked with building the program that will allow the teacher to do this easily.\n",
    "\n",
    "The program will prompt the teacher to enter the grades of each student. Once the teacher has entered all the grades, the program will calculate the total sum of the grades and display it on the screen. Then, the program will create a new list by selecting only the grades of the first, third, and fifth students entered by the teacher, and sort them in ascending order.\n",
    "\n",
    "Finally, the program will print out the new list, along with its length and the number of occurrences of the score 5 in the list. This will give the teacher a good overview of the performance of the selected students, and help them identify any potential issues early on."
   ]
  },
  {
   "cell_type": "markdown",
   "metadata": {},
   "source": [
    "*Hint:*\n",
    "- You can use the input() function to ask the user to enter their information.\n",
    "- Look for list methods to perform the tasks. \n",
    "- Remember, it is possible to get a part of the sequence using:\n",
    "\n",
    "    ```python\n",
    "    sequence[x:y:z]\n",
    "    ```\n",
    "    where x, y, z are integers.\n",
    "\n",
    "    The above returns a new sequence with the following characteristics:\n",
    "\n",
    "    - A sequence with the same type as the original (a slice of a list is a list, a slice of a tuple is a tuple, and a slice of a string is a string).\n",
    "    - A sequence with elements from `sequence [x]` to `sequence [y-1]` (does not include a sequence [y]). By skipping `z` elements each time, it can be omitted if ` z = 1`.\n"
   ]
  },
  {
   "cell_type": "markdown",
   "metadata": {},
   "source": [
    "*Recommended External Resources:*\n",
    "- *[Python Lists](https://www.w3schools.com/python/python_lists.asp)*\n",
    "- *[Python List Methods](https://www.w3schools.com/python/python_ref_list.asp)*\n",
    "- *[Python Built-in Functions](https://docs.python.org/3/library/functions.html)*\n"
   ]
  },
  {
   "cell_type": "code",
   "execution_count": 2,
   "metadata": {},
   "outputs": [],
   "source": [
    "# Imagine you are building a program for a teacher who wants to track the progress of their students throughout the semester. \n",
    "# The teacher wants to input the grades of each student one by one, and get a summary of their performance. There are in total 5 students.\n",
    "students = {}\n",
    "def input_grades():\n",
    "    for i in range(1, 6):\n",
    "        name = input(f\"Enter the name of student {i}: \")\n",
    "        grades = []\n",
    "        for j in range(1, 4):  # Assuming 3 grades per student\n",
    "            grade = float(input(f\"Enter grade {j} for {name}: \"))\n",
    "            grades.append(grade)\n",
    "        students[name] = grades\n",
    "\n",
    "def calculate_average(grades):\n",
    "    return sum(grades) / len(grades)\n"
   ]
  },
  {
   "cell_type": "code",
   "execution_count": 4,
   "metadata": {},
   "outputs": [],
   "source": [
    "#example usage\n",
    "input_grades()"
   ]
  },
  {
   "cell_type": "code",
   "execution_count": 5,
   "metadata": {},
   "outputs": [
    {
     "name": "stdout",
     "output_type": "stream",
     "text": [
      "\n",
      "Summary of Student Grades:\n",
      "Velia: Grades: [3.0, 4.0, 5.0], Average: 4.00\n",
      "Cesc: Grades: [4.0, 5.0, 6.0], Average: 5.00\n",
      "Arnau: Grades: [3.0, 4.0, 5.0], Average: 4.00\n",
      "Biel : Grades: [2.0, 3.0, 4.0], Average: 3.00\n",
      "Mariona: Grades: [4.0, 5.0, 6.0], Average: 5.00\n",
      "Biel: Grades: [3.0, 4.0, 5.0], Average: 4.00\n"
     ]
    }
   ],
   "source": [
    "#The program will prompt the teacher to enter the grades of each student. Once the teacher has entered all the grades, \n",
    "# the program will calculate the total sum of the grades and display it on the screen. \n",
    "def display_summary():\n",
    "    print(\"\\nSummary of Student Grades:\")\n",
    "    for student, grades in students.items():\n",
    "        average = calculate_average(grades)\n",
    "        print(f\"{student}: Grades: {grades}, Average: {average:.2f}\")\n",
    "display_summary()\n"
   ]
  },
  {
   "cell_type": "code",
   "execution_count": 18,
   "metadata": {},
   "outputs": [],
   "source": [
    "# Then, the program will create a new list by selecting only the grades of the first, third, and fifth students entered by the teacher, and sort them in ascending order.\n",
    "def select_and_sort_grades():\n",
    "    selected_grades = []\n",
    "    for i, (student, grades) in enumerate(students.items()):\n",
    "        if i in [0, 2, 4]:  # Selecting 1st, 3rd, and 5th students (0-indexed)\n",
    "            selected_grades.extend(grades)\n",
    "    selected_grades.sort()\n",
    "    print(\"\\nSelected and Sorted Grades:\", selected_grades)\n",
    "    return selected_grades  # Return the list\n"
   ]
  },
  {
   "cell_type": "code",
   "execution_count": 19,
   "metadata": {},
   "outputs": [
    {
     "name": "stdout",
     "output_type": "stream",
     "text": [
      "\n",
      "Selected and Sorted Grades: [3.0, 3.0, 4.0, 4.0, 4.0, 5.0, 5.0, 5.0, 6.0]\n",
      "\n",
      "Final Summary:\n",
      "Selected Grades: [3.0, 3.0, 4.0, 4.0, 4.0, 5.0, 5.0, 5.0, 6.0]\n",
      "Total Number of Grades: 9\n",
      "Occurrences of score 5: 3\n"
     ]
    }
   ],
   "source": [
    "#Finally, the program will print out the new list, along with its length and the number of occurrences of the score 5 in the list. \n",
    "# This will give the teacher a good overview of the performance of the selected students, and help them identify any potential issues early on.\n",
    "def print_final_summary(selected_grades):\n",
    "    print(\"\\nFinal Summary:\")\n",
    "    print(\"Selected Grades:\", selected_grades)\n",
    "    print(\"Total Number of Grades:\", len(selected_grades))\n",
    "    print(\"Occurrences of score 5:\", selected_grades.count(5))\n",
    "\n",
    "selected = select_and_sort_grades()\n",
    "print_final_summary(selected)\n"
   ]
  },
  {
   "cell_type": "markdown",
   "metadata": {},
   "source": [
    "## Exercise 2: Tuples"
   ]
  },
  {
   "cell_type": "markdown",
   "metadata": {},
   "source": [
    "Imagine you're running a fruit stand and want to keep track of your inventory. Write a Python program that does the following:\n",
    "\n",
    "- Initializes a tuple with 5 different types of fruit.\n",
    "- Outputs the first and last elements of the tuple, so you can see the full range of fruits the store offers.\n",
    "- Replaces the second element of the tuple with a new fruit that the store has recently received, and prints the updated tuple so you can see the changes.\n",
    "- Concatenates a new tuple containing 2 additional fruits to the original tuple, so you can add them to the store inventory, and prints the resulting tuple to see the updated inventory.\n",
    "- Splits the resulting tuple into 2 tuples of 3 elements each (the first tuple contains the first 3 elements, and the second tuple contains the last 3 elements), so you can organize the inventory more effectively.\n",
    "- Combines the 2 tuples from the previous step with the original tuple into a new tuple, and prints the resulting tuple and its length, so you can see the final inventory after all the changes."
   ]
  },
  {
   "cell_type": "markdown",
   "metadata": {},
   "source": [
    "*Recommended External Resources: [Python Tuples Examples and Methods](https://www.w3schools.com/python/python_tuples.asp)*\n",
    "\n"
   ]
  },
  {
   "cell_type": "code",
   "execution_count": 20,
   "metadata": {},
   "outputs": [
    {
     "data": {
      "text/plain": [
       "('apple', 'banana', 'cherry', 'strawberrie', 'orange')"
      ]
     },
     "execution_count": 20,
     "metadata": {},
     "output_type": "execute_result"
    }
   ],
   "source": [
    "#Initializing a tuple with 5 different types of fruit:\n",
    "fruit_tuple = (\"apple\", \"banana\", \"cherry\", \"strawberrie\", \"orange\")\n",
    "fruit_tuple"
   ]
  },
  {
   "cell_type": "code",
   "execution_count": 21,
   "metadata": {},
   "outputs": [
    {
     "name": "stdout",
     "output_type": "stream",
     "text": [
      "\n",
      "First fruit: apple\n",
      "Last fruit: orange\n"
     ]
    }
   ],
   "source": [
    "#Output the first and last elements of the tuple, so we can see the full range of fruits the store offers.\n",
    "print(\"\\nFirst fruit:\", fruit_tuple[0])\n",
    "print(\"Last fruit:\", fruit_tuple[-1])"
   ]
  },
  {
   "cell_type": "code",
   "execution_count": 22,
   "metadata": {},
   "outputs": [
    {
     "name": "stdout",
     "output_type": "stream",
     "text": [
      "\n",
      "Updated Fruit Tuple: ('apple', 'kiwi', 'cherry', 'strawberrie', 'orange')\n"
     ]
    }
   ],
   "source": [
    "#Replaces the second element of the tuple with a new fruit and prints the updated tuple.\n",
    "fruit_list = list(fruit_tuple)  # Convert tuple to list to modify it\n",
    "fruit_list[1] = \"kiwi\"  # Replacing \"banana\" with \"kiwi\"\n",
    "fruit_tuple = tuple(fruit_list)  # Convert back to tuple\n",
    "print(\"\\nUpdated Fruit Tuple:\", fruit_tuple)"
   ]
  },
  {
   "cell_type": "code",
   "execution_count": 23,
   "metadata": {},
   "outputs": [
    {
     "name": "stdout",
     "output_type": "stream",
     "text": [
      "\n",
      "Updated Fruit Inventory: ('apple', 'kiwi', 'cherry', 'strawberrie', 'orange', 'grape', 'mango')\n"
     ]
    }
   ],
   "source": [
    "#Concatenates a new tuple containing 2 additional fruits to the original tuple, so you can add them to the store inventory, \n",
    "# and prints the resulting tuple to see the updated inventory.\n",
    "new_fruits = (\"grape\", \"mango\")\n",
    "fruit_tuple = fruit_tuple + new_fruits  # Concatenate the new fruits\n",
    "print(\"\\nUpdated Fruit Inventory:\", fruit_tuple)"
   ]
  },
  {
   "cell_type": "code",
   "execution_count": 25,
   "metadata": {},
   "outputs": [
    {
     "name": "stdout",
     "output_type": "stream",
     "text": [
      "\n",
      "First Tuple: ('apple', 'kiwi', 'cherry')\n",
      "Second Tuple: ('strawberrie', 'orange', 'grape', 'mango')\n"
     ]
    }
   ],
   "source": [
    "#Splits the resulting tuple into 2 tuples of 3 elements each (the first tuple contains the first 3 elements, \n",
    "# and the second tuple contains the last 4 elements), so you can organize the inventory more effectively.\n",
    "def split_fruit_tuple(fruit_tuple):\n",
    "    first_tuple = fruit_tuple[:3]  # First 3 elements\n",
    "    second_tuple = fruit_tuple[3:]  # Last 4 elements\n",
    "    print(\"\\nFirst Tuple:\", first_tuple)\n",
    "    print(\"Second Tuple:\", second_tuple)\n",
    "    return first_tuple, second_tuple\n",
    "first_tuple, second_tuple = split_fruit_tuple(fruit_tuple)"
   ]
  },
  {
   "cell_type": "code",
   "execution_count": 26,
   "metadata": {},
   "outputs": [
    {
     "name": "stdout",
     "output_type": "stream",
     "text": [
      "\n",
      "Combined Tuple: ('apple', 'kiwi', 'cherry', 'strawberrie', 'orange', 'grape', 'mango', 'apple', 'kiwi', 'cherry', 'strawberrie', 'orange', 'grape', 'mango')\n",
      "Length of Combined Tuple: 14\n"
     ]
    }
   ],
   "source": [
    "#Combines the 2 tuples from the previous step with the original tuple into a new tuple, \n",
    "# and prints the resulting tuple and its length, so you can see the final inventory after all the changes.\n",
    "def combine_tuples(original, first, second):\n",
    "    combined_tuple = original + first + second\n",
    "    print(\"\\nCombined Tuple:\", combined_tuple)\n",
    "    print(\"Length of Combined Tuple:\", len(combined_tuple))\n",
    "    return combined_tuple\n",
    "combined_tuple = combine_tuples(fruit_tuple, first_tuple, second_tuple)"
   ]
  },
  {
   "cell_type": "markdown",
   "metadata": {},
   "source": [
    "## Exercise 3: Sets"
   ]
  },
  {
   "cell_type": "markdown",
   "metadata": {},
   "source": [
    "Imagine you are a data analyst working for a literature museum. Your manager has given you two poems to analyze, and she wants you to write a Python program to extract useful information from them.\n",
    "\n",
    "Your program should:\n",
    "\n",
    "- Create two sets, one for each poem, containing all unique words in both poems (ignoring case and punctuation).\n",
    "- Print the number of unique words in each set.\n",
    "- Identify and print the unique words present in the first poem but not in the second one.\n",
    "- Identify and print the unique words present in the second poem but not in the first one.\n",
    "- Identify and print the unique words present in both poems and print it in alphabetical order."
   ]
  },
  {
   "cell_type": "markdown",
   "metadata": {},
   "source": [
    "*Recommended External Resources:*\n",
    "- *[Python Sets](https://www.w3schools.com/python/python_sets.asp)* \n",
    "- *[Python Set Methods](https://www.w3schools.com/python/python_ref_set.asp)*\n",
    "- *[Python String Methods](https://www.w3schools.com/python/python_ref_string.asp)*\n"
   ]
  },
  {
   "cell_type": "code",
   "execution_count": 28,
   "metadata": {},
   "outputs": [],
   "source": [
    "poem = \"\"\"Some say the world will end in fire,\n",
    "Some say in ice.\n",
    "From what I’ve tasted of desire\n",
    "I hold with those who favor fire.\n",
    "But if it had to perish twice,\n",
    "I think I know enough of hate\n",
    "To say that for destruction ice\n",
    "Is also great\n",
    "And would suffice.\"\"\"\n",
    "\n",
    "new_poem = \"\"\"Some say life is but a dream,\n",
    "Some say it's a test.\n",
    "From what I've seen and what I deem,\n",
    "I side with those who see it as a quest.\n",
    "\n",
    "But if it had to end today,\n",
    "I think I know enough of love,\n",
    "To say that though it fades away,\n",
    "It's still what we are made of.\"\"\""
   ]
  },
  {
   "cell_type": "code",
   "execution_count": 30,
   "metadata": {},
   "outputs": [
    {
     "name": "stdout",
     "output_type": "stream",
     "text": [
      "{'fire', 'hold', 'tasted', 'if', 'from', 'it', 'i', 'say', 'but', 'suffice', 'world', 'the', 'had', 'would', 'those', 'also', 've', 'favor', 'with', 'of', 'enough', 'think', 'great', 'and', 'twice', 'destruction', 'that', 'end', 'in', 'ice', 'who', 'for', 'is', 'to', 'will', 'what', 'perish', 'know', 'hate', 'some', 'desire'}\n",
      "{'if', 's', 'side', 'dream', 'seen', 'we', 'from', 'it', 'see', 'i', 'say', 'are', 'but', 'fades', 'quest', 'had', 'made', 'those', 've', 'love', 'away', 'with', 'of', 'enough', 'think', 'and', 'deem', 'test', 'that', 'end', 'a', 'life', 'who', 'as', 'is', 'though', 'to', 'what', 'know', 'today', 'some', 'still'}\n"
     ]
    }
   ],
   "source": [
    "#Create two sets, one for each poem, containing all unique words in both poems (ignoring case and punctuation).\n",
    "def create_word_set(poem):\n",
    "    import re\n",
    "    words = re.findall(r'\\b\\w+\\b', poem.lower())  # Extract words, ignoring punctuation and case\n",
    "    return set(words)\n",
    "poem_set = create_word_set(poem)\n",
    "new_poem_set = create_word_set(new_poem)\n",
    "\n",
    "print(poem_set)\n",
    "print(new_poem_set)\n"
   ]
  },
  {
   "cell_type": "code",
   "execution_count": 31,
   "metadata": {},
   "outputs": [
    {
     "name": "stdout",
     "output_type": "stream",
     "text": [
      "\n",
      "Number of unique words in the original poem: 41\n",
      "Number of unique words in the new poem: 42\n"
     ]
    }
   ],
   "source": [
    "#Print the number of unique words in each set.\n",
    "print(\"\\nNumber of unique words in the original poem:\", len(poem_set))\n",
    "print(\"Number of unique words in the new poem:\", len(new_poem_set))"
   ]
  },
  {
   "cell_type": "code",
   "execution_count": 35,
   "metadata": {},
   "outputs": [
    {
     "name": "stdout",
     "output_type": "stream",
     "text": [
      "\n",
      "Unique words in the first poem: {'fire', 'hold', 'tasted', 'suffice', 'world', 'the', 'would', 'also', 'favor', 'great', 'twice', 'destruction', 'in', 'ice', 'for', 'will', 'perish', 'hate', 'desire'}\n",
      "Length of unique words in the first poem: 19\n"
     ]
    }
   ],
   "source": [
    "#Identify and print the unique words present in the first poem but not in the second one.\n",
    "def unique_words_in_first(poem_set, new_poem_set):\n",
    "    unique_words = poem_set - new_poem_set\n",
    "    print(\"\\nUnique words in the first poem:\", unique_words)\n",
    "    return unique_words  # Return the set of unique words\n",
    "unique_words = unique_words_in_first(poem_set, new_poem_set)\n",
    "length_unique = len(unique_words)\n",
    "print(\"Length of unique words in the first poem:\", length_unique)"
   ]
  },
  {
   "cell_type": "code",
   "execution_count": 36,
   "metadata": {},
   "outputs": [
    {
     "name": "stdout",
     "output_type": "stream",
     "text": [
      "\n",
      "Unique words in the second poem: {'s', 'side', 'dream', 'we', 'seen', 'see', 'are', 'fades', 'quest', 'made', 'love', 'away', 'deem', 'test', 'a', 'life', 'as', 'though', 'today', 'still'}\n",
      "Length of unique words in the second poem: 20\n"
     ]
    }
   ],
   "source": [
    "#Identify and print the unique words present in the second poem but not in the first one.\n",
    "def unique_words_in_second(new_poem_set, poem_set):\n",
    "    unique_words_2 = new_poem_set - poem_set\n",
    "    print(\"\\nUnique words in the second poem:\", unique_words_2)\n",
    "    return unique_words_2  # Return the set of unique words\n",
    "unique_words_2 = unique_words_in_second(new_poem_set, poem_set)\n",
    "length_unique_2 = len(unique_words_2)\n",
    "print(\"Length of unique words in the second poem:\", length_unique_2)"
   ]
  },
  {
   "cell_type": "code",
   "execution_count": 38,
   "metadata": {},
   "outputs": [
    {
     "name": "stdout",
     "output_type": "stream",
     "text": [
      "\n",
      "Common words in both poems (sorted): ['and', 'but', 'end', 'enough', 'from', 'had', 'i', 'if', 'is', 'it', 'know', 'of', 'say', 'some', 'that', 'think', 'those', 'to', 've', 'what', 'who', 'with']\n",
      "Length of common words in both poems: 22\n"
     ]
    }
   ],
   "source": [
    "#Identify and print the unique words present in both poems and print it in alphabetical order.\n",
    "def common_words(poem_set, new_poem_set):\n",
    "    common = poem_set & new_poem_set  # Intersection of both sets\n",
    "    sorted_common = sorted(common)  # Sort the common words alphabetically\n",
    "    print(\"\\nCommon words in both poems (sorted):\", sorted_common)\n",
    "    return sorted_common  # Return the sorted list of common words\n",
    "common_words_list = common_words(poem_set, new_poem_set)\n",
    "length_common = len(common_words_list)\n",
    "print(\"Length of common words in both poems:\", length_common)"
   ]
  },
  {
   "cell_type": "markdown",
   "metadata": {},
   "source": [
    "## Exercise 4: Dictionaries"
   ]
  },
  {
   "cell_type": "markdown",
   "metadata": {},
   "source": [
    "Consider the following dictionary of students with their scores in different subjects. One of the students, Bob, has complained about his score in Philosophy and, after reviewing it, the teacher has decided to update his score to 100. Write a Python program that updates Bob's score in Philosophy to 100 in the dictionary."
   ]
  },
  {
   "cell_type": "markdown",
   "metadata": {},
   "source": [
    "*Recommended External Resources: [Python Dictionary Examples and Methods](https://www.w3schools.com/python/python_dictionaries.asp)*\n"
   ]
  },
  {
   "cell_type": "code",
   "execution_count": 40,
   "metadata": {},
   "outputs": [],
   "source": [
    "grades = {'Alice': {'Physics': 75, 'Math': 85, 'Chemistry': 60, 'Philosophy': 90}, 'Bob': {'Physics': 75, 'Math': 85, 'Chemistry': 60, 'Philosophy': 90}}"
   ]
  },
  {
   "cell_type": "code",
   "execution_count": 41,
   "metadata": {},
   "outputs": [
    {
     "data": {
      "text/plain": [
       "{'Alice': {'Physics': 75, 'Math': 85, 'Chemistry': 60, 'Philosophy': 90},\n",
       " 'Bob': {'Physics': 75, 'Math': 85, 'Chemistry': 60, 'Philosophy': 90}}"
      ]
     },
     "execution_count": 41,
     "metadata": {},
     "output_type": "execute_result"
    }
   ],
   "source": [
    "grades"
   ]
  },
  {
   "cell_type": "code",
   "execution_count": 43,
   "metadata": {},
   "outputs": [
    {
     "name": "stdout",
     "output_type": "stream",
     "text": [
      "\n",
      "Updated Philosophy score for Bob to 100.\n"
     ]
    }
   ],
   "source": [
    "#Update the score of a specific student in a specific subject, so the teacher can keep track of their progress.\n",
    "def update_grade(student_name, subject, new_score):\n",
    "    if student_name in grades and subject in grades[student_name]:\n",
    "        grades[student_name][subject] = new_score\n",
    "        print(f\"\\nUpdated {subject} score for {student_name} to {new_score}.\")\n",
    "    else:\n",
    "        print(f\"\\n{student_name} or {subject} not found in the records.\")\n",
    "update_grade('Bob', 'Philosophy', 100)"
   ]
  },
  {
   "cell_type": "code",
   "execution_count": 44,
   "metadata": {},
   "outputs": [
    {
     "name": "stdout",
     "output_type": "stream",
     "text": [
      "\n",
      "Updated Grades:\n",
      "Alice: {'Physics': 75, 'Math': 85, 'Chemistry': 60, 'Philosophy': 90}\n",
      "Bob: {'Physics': 75, 'Math': 85, 'Chemistry': 60, 'Philosophy': 100}\n"
     ]
    }
   ],
   "source": [
    "#Print the updated grades for all students, so the teacher can see the changes made.\n",
    "def print_grades():\n",
    "    print(\"\\nUpdated Grades:\")\n",
    "    for student, subjects in grades.items():\n",
    "        print(f\"{student}: {subjects}\")\n",
    "print_grades()"
   ]
  },
  {
   "cell_type": "markdown",
   "metadata": {},
   "source": [
    "## Bonus"
   ]
  },
  {
   "cell_type": "markdown",
   "metadata": {},
   "source": [
    "1. Below are the two lists. Write a Python program to convert them into a dictionary in a way that item from list1 is the key and item from list2 is the value."
   ]
  },
  {
   "cell_type": "markdown",
   "metadata": {},
   "source": [
    "*Hint: Use the zip() function. This function takes two or more iterables (like list, dict, string), aggregates them in a tuple, and returns it. Afterwards, you can use a function that turns a tuple into a dictionary.*"
   ]
  },
  {
   "cell_type": "markdown",
   "metadata": {},
   "source": [
    "*Recommended External Resources: [Python Zip Function](https://www.w3schools.com/python/ref_func_zip.asp)*\n"
   ]
  },
  {
   "cell_type": "code",
   "execution_count": 45,
   "metadata": {},
   "outputs": [
    {
     "name": "stdout",
     "output_type": "stream",
     "text": [
      "\n",
      "Grades Dictionary: {'Physics': 75, 'Math': 85, 'Chemistry': 60, 'Philosophy': 90}\n"
     ]
    }
   ],
   "source": [
    "keys = ['Physics', 'Math', 'Chemistry', 'Philosophy']\n",
    "values = [75, 85, 60,90]\n",
    "\n",
    "# Convert the lists to a dictionary\n",
    "grades = dict(zip(keys, values))\n",
    "print(\"\\nGrades Dictionary:\", grades)"
   ]
  },
  {
   "cell_type": "markdown",
   "metadata": {},
   "source": [
    "2. Get the subject with the minimum score from the previous dictionary."
   ]
  },
  {
   "cell_type": "code",
   "execution_count": 46,
   "metadata": {},
   "outputs": [
    {
     "name": "stdout",
     "output_type": "stream",
     "text": [
      "\n",
      "Subject with minimum score: Chemistry with score 60\n"
     ]
    }
   ],
   "source": [
    "#Get the subject with the minimum score from the previous dictionary\n",
    "def get_min_subject(grades):\n",
    "    min_subject = min(grades, key=grades.get)  # Get the subject with the minimum score\n",
    "    min_score = grades[min_subject]\n",
    "    print(f\"\\nSubject with minimum score: {min_subject} with score {min_score}\")\n",
    "    return min_subject, min_score  # Return the subject and its score\n",
    "min_subject, min_score = get_min_subject(grades)"
   ]
  },
  {
   "cell_type": "markdown",
   "metadata": {},
   "source": [
    "*Hint: Use the built-in function min(). Read about the parameter key.*"
   ]
  },
  {
   "cell_type": "markdown",
   "metadata": {},
   "source": [
    "\n",
    "*Recommended External Resources:*\n",
    "- *[Python Min Function Official Documentation](https://docs.python.org/3.8/library/functions.html#min)*\n",
    "- *[How to use key function in max and min in Python](https://medium.com/analytics-vidhya/how-to-use-key-function-in-max-and-min-in-python-1fdbd661c59c)*"
   ]
  },
  {
   "cell_type": "code",
   "execution_count": null,
   "metadata": {},
   "outputs": [],
   "source": [
    "# Your code here"
   ]
  }
 ],
 "metadata": {
  "kernelspec": {
   "display_name": "Python 3",
   "language": "python",
   "name": "python3"
  },
  "language_info": {
   "codemirror_mode": {
    "name": "ipython",
    "version": 3
   },
   "file_extension": ".py",
   "mimetype": "text/x-python",
   "name": "python",
   "nbconvert_exporter": "python",
   "pygments_lexer": "ipython3",
   "version": "3.9.6"
  }
 },
 "nbformat": 4,
 "nbformat_minor": 4
}
